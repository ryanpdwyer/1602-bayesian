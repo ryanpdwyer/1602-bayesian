{
 "cells": [
  {
   "cell_type": "code",
   "execution_count": 246,
   "metadata": {
    "collapsed": true
   },
   "outputs": [],
   "source": [
    "%matplotlib inline\n",
    "from __future__ import division\n",
    "import matplotlib as mpl\n",
    "from matplotlib import gridspec\n",
    "import matplotlib.pyplot as plt\n",
    "import numpy as np\n",
    "import pandas as pd\n",
    "from scipy.stats import norm\n",
    "from ipywidgets import interactive\n",
    "\n",
    "def linear_model(alpha, beta, sigma, N=50, pt=1):\n",
    "    xlim = (0, 10)\n",
    "    x = np.linspace(xlim[0], xlim[1], N)\n",
    "    xi = x[pt]\n",
    "    mu = alpha + beta * x\n",
    "    y_pts = np.linspace(mu[pt] - 5*sigma, mu[pt] + 5*sigma, 200)\n",
    "    y_probs = norm.pdf(y_pts, scale=sigma, loc=mu[pt])\n",
    "    y = np.random.randn(N)*sigma + mu\n",
    "    mb = np.polyfit(x, y, 1)\n",
    "    log_like = np.sum(np.log(norm.pdf((y - mu) / sigma)))\n",
    "    gs = gridspec.GridSpec(nrows=1, ncols=4)\n",
    "    fig = plt.figure()\n",
    "    ax = fig.add_subplot(gs[:-1])\n",
    "    ax2 = fig.add_subplot(gs[-1])\n",
    "    fig.subplots_adjust(wspace=0.05)\n",
    "    ax.plot(x, y, 'bo', markeredgewidth=0)\n",
    "    ax.plot(x, mu, 'b-')\n",
    "    ax.plot(x, np.polyval(mb, x), 'g-')\n",
    "    ax.set_xlabel(\"x\")\n",
    "    ax.set_ylabel(\"y\")\n",
    "    ax2.set_xlabel(\"Probability\")\n",
    "    ax.set_xlim(np.mean(xlim) -0.52*(xlim[1]-xlim[0]), np.mean(xlim) + 0.52*(xlim[1]-xlim[0]))\n",
    "    ylim = ax.get_ylim()\n",
    "    xlim_ = ax.get_xlim()\n",
    "    loglike_sign = '' if log_like >= 0 else '-'\n",
    "    ax.text(xlim_[0]+(xlim_[1] - xlim_[0])*0.05, ylim[0]+(ylim[1] - ylim[0])*0.8, \"$\\log L = {}{:.1f}$\\n$y_i \\\\sim N(mx_i + b, \\\\sigma)$\".format(loglike_sign, abs(log_like)),\n",
    "           size=14)\n",
    "    ax2.set_ylim(*ylim)\n",
    "    ax2.set_yticklabels([''])\n",
    "    ax2.plot(y_probs, y_pts)\n",
    "    ax2.scatter(norm.pdf(y[pt], scale=sigma, loc=mu[pt]), y[pt], c='', edgecolors='b')\n",
    "    ax.vlines(x[pt], min(mu[pt], y[pt]),  max(mu[pt], y[pt]), )\n",
    "    ax2.axhline(mu[pt], color='0.5', linestyle='--')\n",
    "    ax2.axhline(y[pt], color='0.5', linestyle='--')\n",
    "    ax2.set_xlim(0, norm.pdf(0)*1.1)\n",
    "    ax2.set_xticklabels([''])\n",
    "    return fig, ax"
   ]
  },
  {
   "cell_type": "markdown",
   "metadata": {},
   "source": [
    "# Bayesian inference in Python\n",
    "Ryan Dwyer *February 17, 2016*\n"
   ]
  },
  {
   "cell_type": "markdown",
   "metadata": {},
   "source": [
    "# Motivation\n",
    "\n",
    "![phase kick data](figs/phase-kick-151119.pdf)\n",
    "\n",
    "- Phase kick experimental data has complicated noise profile (see shaded regions)\n",
    "- Especially in organic samples with long recovery times, few data points, so worthwhile to glean as much information as possible from data\n",
    "\n",
    "\n",
    "*Bayesian inference allows inferring,*\n",
    "\n",
    "- **experimental noise**\n",
    "- **sample parameters**\n",
    "- **distribution of possible sample parameters and experimental noise**\n",
    "\n",
    "*simultaneously, in a motivated way.*"
   ]
  },
  {
   "cell_type": "markdown",
   "metadata": {},
   "source": [
    "# Statistics notation\n",
    "\n",
    "<img src=\"linear-fit.png\" width=640px>\n",
    "\n",
    "- Consider linear regression\n",
    "- $N$ data points $(x_i, y_i)$\n",
    "- Model the experimental data as a line with normally distributed errors,\n",
    "    $$\\begin{align}\n",
    "    \\mu_i& = m x_i + b&\\\\\n",
    "    y_i& \\sim \\mathcal{N}(\\mu_i, \\sigma)&\n",
    "    \\end{align}\n",
    "    $$\n",
    "    - $\\sim$ means \"is distributed as\"\n",
    "    - $\\mathcal{N}(\\mu, \\sigma)$ means a normal distribution with mean $\\mu$, standard deviation $\\sigma$\n",
    "- Because $y_i$ is normally distributed, each data point has a likelihood $L_i$ given by the normal distribution's probability density (see above, right),\n",
    "    $$L_i = \\frac{1}{\\sigma \\sqrt{2\\pi}} \\exp \\left( \\frac{-(y_i -\\mu_i)^2}{2\\sigma^2} \\right )$$\n",
    "- Independent data points, so the likelihood of the entire dataset is the product of the likelihood of individual data points,\n",
    "    $$\n",
    "    L = \\prod_{i=1}^{N} L_i\n",
    "    $$\n",
    "- Easier to work with the log likelihood,\n",
    "    $$\\log L = \\sum_{i=1}^{N} \\log L_i \\propto \\sum_{i=1}^{N} \\frac{-(y_i -\\mu_i)^2}{2\\sigma^2}$$\n",
    "- Ordinary least squares gives the *maximum likelihood estimate (MLE)* for this model (green)."
   ]
  },
  {
   "cell_type": "markdown",
   "metadata": {},
   "source": [
    "# Bayesian\n",
    "\n",
    "<img src=\"linear-fit.png\" width=640px>\n",
    "\n",
    "- **Prior** representing initial knowledge / belief about distribution of $m$, $b$, $\\sigma$\n",
    "- **Likelihood** derived from model (same as above)\n",
    "- **Posterior** Rather than a point estimate (MLE), compute a posterior distribution of plausible parameters values, given the **likelihood** and **prior**\n",
    "\n",
    "<img src=\"figs/likelihood.png\" alt=\"likelihood\" style=\"width:640px\">\n",
    "\n",
    "- $\\mathrm{Posterior} \\propto \\mathrm{Prior} \\times \\mathrm{Likelihood}$\n",
    "\n",
    "**Why?** Observed data may not provide much information about a given parameter."
   ]
  },
  {
   "cell_type": "code",
   "execution_count": 225,
   "metadata": {
    "collapsed": false
   },
   "outputs": [
    {
     "data": {
      "text/plain": [
       "(<matplotlib.figure.Figure at 0x1130b0910>,\n",
       " <matplotlib.axes._subplots.AxesSubplot at 0x11309ea10>)"
      ]
     },
     "metadata": {},
     "output_type": "display_data"
    },
    {
     "data": {
      "image/png": "[encoded data removed]",
      "text/plain": [
       "<matplotlib.figure.Figure at 0x1130b0910>"
      ]
     },
     "metadata": {},
     "output_type": "display_data"
    }
   ],
   "source": [
    "interactive(linear_model, alpha=0, beta=(0.1, 5, 0.1), sigma=(0.1, 5, 0.1), pt=(1, 19, 1), N=20, )"
   ]
  },
  {
   "cell_type": "markdown",
   "metadata": {},
   "source": [
    "## Resources\n",
    "\n",
    "\n",
    "- [Frequentism and Bayesianism: A Python-driven Primer.](http://arxiv.org/pdf/1411.5018v1.pdf)\n",
    "    - This is based on a series of blog posts at [Pythonic Permutations](https://jakevdp.github.io/blog/2015/08/07/frequentism-and-bayesianism-5-model-selection/). Most relevant is,\n",
    "- [Frequentism and Bayesianism IV: How to be a Bayesian in Python](http://jakevdp.github.io/blog/2014/06/14/frequentism-and-bayesianism-4-bayesian-in-python/)\n",
    "\n",
    "### Books\n",
    "\n",
    "- [*Stan Modeling Language User's Guide and Reference Manual*](http://mc-stan.org/documentation/)\n",
    "    - Really great resource; implements basic versions of many different types of models in Stan (linear regression, time series analysis, multilevel modeling, ARMA processes, and more).\n",
    "- *Doing Bayesian Data Analysis: A Tutorial with R, JAGS, and Stan.* Kruschke, J.\n",
    "    - Starts from a fairly basic level. The author also has a variety of articles on his [website](http://www.indiana.edu/~kruschke/).\n",
    "- *Statistical Rethinking: A Bayesian Course with Examples in R and Stan.* McElreath, R.\n",
    "    - Emphasis on information theory for motivating choice of distributions, errors, priors.\n",
    "- Bayesian Data Analysis. Gelman, A., *et al*.\n",
    "    - Comprehensive overview, somewhat more advanced. Available online from the [Cornell library](https://newcatalog.library.cornell.edu/catalog/9204986)."
   ]
  },
  {
   "cell_type": "markdown",
   "metadata": {
    "collapsed": true
   },
   "source": [
    "## Outline\n",
    "\n",
    "- Motivation:\n",
    "- Statistics notation / terminology (with pictures)\n",
    "- Brownian motion example [[notebook](LogNormalBrownian.ipynb), html]\n",
    "- Different samplers?\n",
    "- Scientific use cases"
   ]
  },
  {
   "cell_type": "markdown",
   "metadata": {},
   "source": [
    "## Bayesian inference\n",
    "\n",
    "<img src=\"figs/likelihood.png\" alt=\"likelihood\" style=\"width:640px\">\n",
    "\n",
    "- Generate samples from the posterior"
   ]
  },
  {
   "cell_type": "markdown",
   "metadata": {},
   "source": [
    "<img src=\"figs/fig7-4.png\" alt=\"likelihood\" style=\"width:640px\">"
   ]
  },
  {
   "cell_type": "code",
   "execution_count": 244,
   "metadata": {
    "collapsed": false
   },
   "outputs": [],
   "source": [
    "# fig, ax = linear_model(alpha=0, beta=2.5, sigma=3, N=15, pt=7)\n",
    "a = fig.axes[0]\n",
    "line = a.lines[0]\n",
    "x,y = line.get_data()\n",
    "x2, y2 = a.lines[1].get_data()"
   ]
  },
  {
   "cell_type": "code",
   "execution_count": 245,
   "metadata": {
    "collapsed": false
   },
   "outputs": [
    {
     "data": {
      "text/plain": [
       "[<matplotlib.lines.Line2D at 0x1133fdc50>]"
      ]
     },
     "execution_count": 245,
     "metadata": {},
     "output_type": "execute_result"
    },
    {
     "data": {
      "image/png": "[encoded data removed]",
      "text/plain": [
       "<matplotlib.figure.Figure at 0x1132d86d0>"
      ]
     },
     "metadata": {},
     "output_type": "display_data"
    }
   ],
   "source": [
    "plt.plot(x, y, 'bo')\n",
    "plt.plot(x2, y2, 'b-')"
   ]
  },
  {
   "cell_type": "code",
   "execution_count": 249,
   "metadata": {
    "collapsed": false
   },
   "outputs": [],
   "source": [
    "df = pd.DataFrame({'x': x, 'y': y})\n",
    "df.to_csv('linear.csv')"
   ]
  },
  {
   "cell_type": "code",
   "execution_count": null,
   "metadata": {
    "collapsed": true
   },
   "outputs": [],
   "source": [
    "# fig.savefig('linear-fit.png', dpi=300, bbox_inches='tight')"
   ]
  }
 ],
 "metadata": {
  "kernelspec": {
   "display_name": "Python 2",
   "language": "python",
   "name": "python2"
  },
  "language_info": {
   "codemirror_mode": {
    "name": "ipython",
    "version": 2
   },
   "file_extension": ".py",
   "mimetype": "text/x-python",
   "name": "python",
   "nbconvert_exporter": "python",
   "pygments_lexer": "ipython2",
   "version": "2.7.11"
  }
 },
 "nbformat": 4,
 "nbformat_minor": 0
}
