{
 "cells": [
  {
   "cell_type": "markdown",
   "metadata": {},
   "source": [
    "# Motivating example: Brownian motion data\n",
    "\n",
    "- The cantilever spring constant $k_\\text{c}$ is determined by fitting the power spectral density of position fluctuations $P_{\\delta x}$ near the cantilever's resonance frequency.\n",
    "\n",
    "- Normal curve fitting routines assume normally distributed errors,  however, the power spectral density is always positive, and the distribution is not closely approximated by a normal distribution.\n",
    "\n",
    "- Think through the notation more clearly later.\n",
    "\n",
    "\n",
    "$$\n",
    "\\begin{align}\n",
    "\\mu &\\sim P(f, f_\\text{c}, k_\\text{c}, Q) + P_\\text{det}& \\\\\n",
    "\n",
    "\\end{align}\n",
    "$$\n",
    "\n",
    "Individual power spectra $y$ are drawn from a log normal distribution.\n",
    "\n",
    "$$\n",
    "\\begin{align}\n",
    "\\exp(\\mu_i + \\sigma_i^2/2)& = P(x_i, f_\\text{c}, k_\\text{c}, Q) + P_\\text{det} & \\\\\n",
    "\\mu_i & = \\log (P(x_i, f_\\text{c}, k_\\text{c}, Q) + P_\\text{det}) - \\sigma_i^2/2 & \\\\\n",
    "\\end{align}\n",
    "$$\n",
    "\n",
    "\n",
    "\n",
    "$$\n",
    "\\begin{align}\n",
    "\\sigma_i& \\sim \\alpha + \\beta \\mu_i& \\\\\n",
    "y_i & \\sim \\log \\mathcal{N}(\\mu_i, \\sigma_i)&\n",
    "\\end{align}\n",
    "$$"
   ]
  },
  {
   "cell_type": "markdown",
   "metadata": {},
   "source": [
    "## Naive model\n",
    "\n",
    "- Collect power spectral density of position fluctuation data, mean $y$, and standard deviation $y_\\sigma$, for $N$ samples.\n",
    "\n",
    "$$\n",
    "\\begin{align}\n",
    "\\mu_i &\\sim P(x_i, f_\\text{c}, k_\\text{c}, Q) + P_\\text{det}& \\\\\n",
    "\\sigma_i & \\sim \\frac{y_\\sigma}{\\sqrt{N}} \\\\\n",
    "y &\\sim \\mathcal{N}(\\mu, \\sigma)&\n",
    "\\end{align}\n",
    "$$\n",
    "\n",
    "Previously, this is the model I had used; it was optimized using ``scipy.optimize.curve_fit``."
   ]
  },
  {
   "cell_type": "code",
   "execution_count": null,
   "metadata": {
    "collapsed": true
   },
   "outputs": [],
   "source": []
  },
  {
   "cell_type": "markdown",
   "metadata": {},
   "source": [
    "## Show non-normally distributed errors"
   ]
  },
  {
   "cell_type": "markdown",
   "metadata": {},
   "source": [
    "Assume we have data described by,\n",
    "\n",
    "$$\n",
    "\\begin{align}\n",
    "\\mu_i &\\sim P(x_i, f_\\text{c}, k_\\text{c}, Q) + P_\\text{det}& \\\\\n",
    "\\bar{y}_i& \\sim \\log \\mathcal{N}(\\mu_i, \\sigma_i)& \n",
    "\\end{align}\n",
    "$$\n"
   ]
  },
  {
   "cell_type": "code",
   "execution_count": 124,
   "metadata": {
    "collapsed": false
   },
   "outputs": [
    {
     "ename": "ImportError",
     "evalue": "No module named pymc3",
     "output_type": "error",
     "traceback": [
      "\u001b[0;31m---------------------------------------------------------------------------\u001b[0m",
      "\u001b[0;31mImportError\u001b[0m                               Traceback (most recent call last)",
      "\u001b[0;32m<ipython-input-124-3fa4e49d15e2>\u001b[0m in \u001b[0;36m<module>\u001b[0;34m()\u001b[0m\n\u001b[1;32m      3\u001b[0m \u001b[0;32mimport\u001b[0m \u001b[0mnumpy\u001b[0m \u001b[0;32mas\u001b[0m \u001b[0mnp\u001b[0m\u001b[0;34m\u001b[0m\u001b[0m\n\u001b[1;32m      4\u001b[0m \u001b[0;32mimport\u001b[0m \u001b[0mmatplotlib\u001b[0m\u001b[0;34m.\u001b[0m\u001b[0mpyplot\u001b[0m \u001b[0;32mas\u001b[0m \u001b[0mplt\u001b[0m\u001b[0;34m\u001b[0m\u001b[0m\n\u001b[0;32m----> 5\u001b[0;31m \u001b[0;32mfrom\u001b[0m \u001b[0mpymc3\u001b[0m \u001b[0;32mimport\u001b[0m \u001b[0mModel\u001b[0m\u001b[0;34m,\u001b[0m \u001b[0mNormal\u001b[0m\u001b[0;34m,\u001b[0m \u001b[0mHalfNormal\u001b[0m\u001b[0;34m,\u001b[0m \u001b[0mfind_MAP\u001b[0m\u001b[0;34m,\u001b[0m \u001b[0mNUTS\u001b[0m\u001b[0;34m,\u001b[0m \u001b[0msample\u001b[0m\u001b[0;34m\u001b[0m\u001b[0m\n\u001b[0m",
      "\u001b[0;31mImportError\u001b[0m: No module named pymc3"
     ]
    }
   ],
   "source": [
    "%matplotlib inline\n",
    "from __future__ import division\n",
    "import numpy as np\n",
    "import matplotlib.pyplot as plt\n",
    "from pymc3 import Model, Normal, HalfNormal, find_MAP, NUTS, sample"
   ]
  },
  {
   "cell_type": "code",
   "execution_count": 23,
   "metadata": {
    "collapsed": true
   },
   "outputs": [],
   "source": [
    "def std_lognormal(x, sigma):\n",
    "    return np.where(\n",
    "            x > 0,\n",
    "            np.exp(-np.log(x)**2 / (2*sigma**2)) / (x * sigma * np.sqrt(2*np.pi)),\n",
    "            0)"
   ]
  },
  {
   "cell_type": "code",
   "execution_count": 44,
   "metadata": {
    "collapsed": false
   },
   "outputs": [
    {
     "name": "stderr",
     "output_type": "stream",
     "text": [
      "/Users/ryandwyer/anaconda/lib/python2.7/site-packages/ipykernel/__main__.py:4: RuntimeWarning: divide by zero encountered in log\n",
      "/Users/ryandwyer/anaconda/lib/python2.7/site-packages/ipykernel/__main__.py:4: RuntimeWarning: invalid value encountered in true_divide\n"
     ]
    }
   ],
   "source": [
    "x = np.arange(0., 100, 0.01)\n",
    "p = std_lognormal(x, 1)"
   ]
  },
  {
   "cell_type": "code",
   "execution_count": 67,
   "metadata": {
    "collapsed": false
   },
   "outputs": [
    {
     "data": {
      "text/plain": [
       "10000"
      ]
     },
     "execution_count": 67,
     "metadata": {},
     "output_type": "execute_result"
    }
   ],
   "source": [
    "p.size"
   ]
  },
  {
   "cell_type": "code",
   "execution_count": 90,
   "metadata": {
    "collapsed": false
   },
   "outputs": [],
   "source": [
    "p_FT = np.fft.rfft(p/100, n=p.size)"
   ]
  },
  {
   "cell_type": "code",
   "execution_count": 101,
   "metadata": {
    "collapsed": true
   },
   "outputs": [],
   "source": [
    "p4_FT = np.fft.irfft(p_FT**8,)"
   ]
  },
  {
   "cell_type": "code",
   "execution_count": null,
   "metadata": {
    "collapsed": true
   },
   "outputs": [],
   "source": [
    "p32_FT = np.fft.irfft(p_FT**32)"
   ]
  },
  {
   "cell_type": "code",
   "execution_count": 102,
   "metadata": {
    "collapsed": false
   },
   "outputs": [
    {
     "data": {
      "text/plain": [
       "array([  1.73500497e-08,   1.73389542e-08,   1.73278669e-08, ...,\n",
       "         1.73833853e-08,   1.73722653e-08,   1.73611534e-08])"
      ]
     },
     "execution_count": 102,
     "metadata": {},
     "output_type": "execute_result"
    }
   ],
   "source": [
    "p4_FT"
   ]
  },
  {
   "cell_type": "code",
   "execution_count": 103,
   "metadata": {
    "collapsed": false
   },
   "outputs": [],
   "source": [
    "x4 = np.arange(p4_FT.size)*0.01"
   ]
  },
  {
   "cell_type": "code",
   "execution_count": 104,
   "metadata": {
    "collapsed": false
   },
   "outputs": [
    {
     "data": {
      "text/plain": [
       "(0, 10)"
      ]
     },
     "execution_count": 104,
     "metadata": {},
     "output_type": "execute_result"
    },
    {
     "data": {
      "image/png": "[encoded data removed]",
      "text/plain": [
       "<matplotlib.figure.Figure at 0x11a69b110>"
      ]
     },
     "metadata": {},
     "output_type": "display_data"
    }
   ],
   "source": [
    "plt.plot(x, p/100)\n",
    "plt.plot(x4/8, p4_FT)\n",
    "plt.xlim(0, 10)"
   ]
  },
  {
   "cell_type": "code",
   "execution_count": 116,
   "metadata": {
    "collapsed": false
   },
   "outputs": [
    {
     "data": {
      "text/plain": [
       "2.7120333332398112"
      ]
     },
     "execution_count": 116,
     "metadata": {},
     "output_type": "execute_result"
    }
   ],
   "source": [
    "np.sum((x)**2 * p/100)**0.5"
   ]
  },
  {
   "cell_type": "code",
   "execution_count": 118,
   "metadata": {
    "collapsed": false
   },
   "outputs": [
    {
     "data": {
      "text/plain": [
       "2.2441639312620749"
      ]
     },
     "execution_count": 118,
     "metadata": {},
     "output_type": "execute_result"
    }
   ],
   "source": [
    "np.sum((np.arange(p2.size)*0.01/2)**2 * p2/100**2)**0.5"
   ]
  },
  {
   "cell_type": "code",
   "execution_count": 112,
   "metadata": {
    "collapsed": false
   },
   "outputs": [
    {
     "data": {
      "text/plain": [
       "1.815042341333351"
      ]
     },
     "execution_count": 112,
     "metadata": {},
     "output_type": "execute_result"
    }
   ],
   "source": [
    "np.sum((x4/8)**2 * p4_FT)**0.5"
   ]
  },
  {
   "cell_type": "code",
   "execution_count": 122,
   "metadata": {
    "collapsed": false
   },
   "outputs": [
    {
     "data": {
      "text/plain": [
       "0.6597539553864471"
      ]
     },
     "execution_count": 122,
     "metadata": {},
     "output_type": "execute_result"
    }
   ],
   "source": [
    "8**(-0.2)"
   ]
  },
  {
   "cell_type": "code",
   "execution_count": 63,
   "metadata": {
    "collapsed": false
   },
   "outputs": [
    {
     "data": {
      "text/plain": [
       "(0, 20)"
      ]
     },
     "execution_count": 63,
     "metadata": {},
     "output_type": "execute_result"
    },
    {
     "data": {
      "image/png": "[encoded data removed]",
      "text/plain": [
       "<matplotlib.figure.Figure at 0x119cc8b90>"
      ]
     },
     "metadata": {},
     "output_type": "display_data"
    }
   ],
   "source": [
    "plt.plot(x, p)\n",
    "p2 = np.convolve(p, p, mode='full')\n",
    "p3 = np.convolve(p2, p, mode='full')\n",
    "p4 = np.convolve(p3, p, mode='full')\n",
    "plt.plot(np.arange(p2.size)*0.01, p2/100)\n",
    "plt.plot(np.arange(p3.size)*0.01, p3/100**2 / 3)\n",
    "plt.plot(np.arange(p4.size)*0.01, p4/100**4 / 4)\n",
    "plt.xlim(0, 20)"
   ]
  },
  {
   "cell_type": "code",
   "execution_count": 17,
   "metadata": {
    "collapsed": false
   },
   "outputs": [
    {
     "data": {
      "text/plain": [
       "[<matplotlib.lines.Line2D at 0x113476b10>]"
      ]
     },
     "execution_count": 17,
     "metadata": {},
     "output_type": "execute_result"
    },
    {
     "data": {
      "image/png": "[encoded data removed]",
      "text/plain": [
       "<matplotlib.figure.Figure at 0x110e0e950>"
      ]
     },
     "metadata": {},
     "output_type": "display_data"
    }
   ],
   "source": [
    "plt.plot(x, std_lognormal(x, 0.1))\n",
    "plt.plot(x, std_lognormal(x, 0.5))\n",
    "plt.plot(x, std_lognormal(x, 1))"
   ]
  },
  {
   "cell_type": "code",
   "execution_count": 20,
   "metadata": {
    "collapsed": false
   },
   "outputs": [
    {
     "data": {
      "text/plain": [
       "[<matplotlib.lines.Line2D at 0x1139eca10>]"
      ]
     },
     "execution_count": 20,
     "metadata": {},
     "output_type": "execute_result"
    },
    {
     "data": {
      "image/png": "[encoded data removed]",
      "text/plain": [
       "<matplotlib.figure.Figure at 0x1139925d0>"
      ]
     },
     "metadata": {},
     "output_type": "display_data"
    }
   ],
   "source": [
    "plt.plot(x, np.cumsum(std_lognormal(x, 0.1)))\n",
    "plt.plot(x, np.cumsum(std_lognormal(x, 0.5)))\n",
    "plt.plot(x, np.cumsum(std_lognormal(x, 1)))\n",
    "plt.plot(x, np.cumsum(std_lognormal(x, 5)))"
   ]
  },
  {
   "cell_type": "code",
   "execution_count": null,
   "metadata": {
    "collapsed": true
   },
   "outputs": [],
   "source": []
  }
 ],
 "metadata": {
  "kernelspec": {
   "display_name": "Python 2",
   "language": "python",
   "name": "python2"
  },
  "language_info": {
   "codemirror_mode": {
    "name": "ipython",
    "version": 2
   },
   "file_extension": ".py",
   "mimetype": "text/x-python",
   "name": "python",
   "nbconvert_exporter": "python",
   "pygments_lexer": "ipython2",
   "version": "2.7.11"
  }
 },
 "nbformat": 4,
 "nbformat_minor": 0
}
